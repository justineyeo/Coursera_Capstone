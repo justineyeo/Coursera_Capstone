{
 "cells": [
  {
   "cell_type": "markdown",
   "metadata": {},
   "source": [
    "### Introduction"
   ]
  },
  {
   "cell_type": "markdown",
   "metadata": {},
   "source": [
    "The city of Lincoln is the capital of the state of Nebraska. While unbeknownst to many outside America, and even within America, Lincoln is home to one of the members of the Big Ten Conference, namely, the University of Nebraska-Lincoln. Additionally, Lincoln has been dubbed one of the most welcoming cities in America, and has been increasingly drawing a wide variety of people, including refugees and startup companies.\n",
    "\n",
    "Considering the city's growing population, and in an attempt to paint a picture of the city, this project seeks to create a fun and easy food guide to Lincoln using crowd-sourced data from Foursquare. Those new to the city, or those who have still yet to fully explore the city, may find this guide helpful and informative for their eating and drinking pleasure."
   ]
  }
 ],
 "metadata": {
  "kernelspec": {
   "display_name": "Python 3",
   "language": "python",
   "name": "python3"
  },
  "language_info": {
   "codemirror_mode": {
    "name": "ipython",
    "version": 3
   },
   "file_extension": ".py",
   "mimetype": "text/x-python",
   "name": "python",
   "nbconvert_exporter": "python",
   "pygments_lexer": "ipython3",
   "version": "3.6.5"
  }
 },
 "nbformat": 4,
 "nbformat_minor": 2
}
